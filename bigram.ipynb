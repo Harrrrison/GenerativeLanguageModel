{
 "cells": [
  {
   "cell_type": "code",
   "execution_count": 40,
   "id": "6af1317a-b731-4f73-9990-6c0b598a893f",
   "metadata": {},
   "outputs": [
    {
     "name": "stdout",
     "output_type": "stream",
     "text": [
      "cuda\n"
     ]
    }
   ],
   "source": [
    "import torch\n",
    "import torch.nn as nn\n",
    "from torch.nn import functional as F\n",
    "device = 'cuda' if torch.cuda.is_available() else 'cpu'\n",
    "print(device)\n",
    "\n",
    "# hyper params \n",
    "block_size = 8\n",
    "batch_size = 4\n",
    "\n",
    "max_iters = 10000\n",
    "# eval_interval = 2500\n",
    "learning_rate = 3e-4\n",
    "eval_iters = 250\n",
    "dropout = 0.2 # prevents over fitting "
   ]
  },
  {
   "cell_type": "code",
   "execution_count": 30,
   "id": "0b2deab8-f499-4b80-a705-5ba920e210ed",
   "metadata": {},
   "outputs": [
    {
     "name": "stdout",
     "output_type": "stream",
     "text": [
      "['\\n', ' ', '!', '\"', '&', \"'\", '(', ')', '*', ',', '-', '.', '0', '1', '2', '3', '4', '5', '6', '7', '8', '9', ':', ';', '?', 'A', 'B', 'C', 'D', 'E', 'F', 'G', 'H', 'I', 'J', 'K', 'L', 'M', 'N', 'O', 'P', 'Q', 'R', 'S', 'T', 'U', 'V', 'W', 'X', 'Y', 'Z', '[', ']', '_', 'a', 'b', 'c', 'd', 'e', 'f', 'g', 'h', 'i', 'j', 'k', 'l', 'm', 'n', 'o', 'p', 'q', 'r', 's', 't', 'u', 'v', 'w', 'x', 'y', 'z', '\\ufeff']\n"
     ]
    }
   ],
   "source": [
    "with open('wizard-of-oz.txt', 'r', encoding='utf-8') as f:\n",
    "    text = f.read()\n",
    "chars = sorted(set(text))\n",
    "print(chars)\n",
    "vocab_size = len(chars)\n"
   ]
  },
  {
   "cell_type": "code",
   "execution_count": 31,
   "id": "d8baaf26-272a-42dd-874d-77d4ecec5531",
   "metadata": {},
   "outputs": [],
   "source": [
    "string_to_int = { ch:i for i,ch in enumerate(chars) }\n",
    "int_to_string = { i:ch for i,ch in enumerate(chars) }\n",
    "\n",
    "encode = lambda s: [string_to_int[c] for c in s]\n",
    "decode = lambda l: ''.join([int_to_string[i] for i in l])\n",
    "\n",
    "data = torch.tensor(encode(text), dtype=torch.long)\n",
    "\n"
   ]
  },
  {
   "cell_type": "code",
   "execution_count": 32,
   "id": "1c08b542-73a3-4496-be11-7618d048a43f",
   "metadata": {},
   "outputs": [
    {
     "name": "stdout",
     "output_type": "stream",
     "text": [
      "inputs:\n",
      "tensor([[62, 68, 67,  1, 68, 59,  1, 58],\n",
      "        [76, 53,  1, 61, 58,  1, 62, 72],\n",
      "        [ 1, 54, 67, 57,  1, 67, 68,  1],\n",
      "        [56, 58,  1, 68, 59,  1, 73, 61]], device='cuda:0')\n",
      "targets: \n",
      "tensor([[68, 67,  1, 68, 59,  1, 58, 62],\n",
      "        [53,  1, 61, 58,  1, 62, 72,  9],\n",
      "        [54, 67, 57,  1, 67, 68,  1, 66],\n",
      "        [58,  1, 68, 59,  1, 73, 61, 58]], device='cuda:0')\n"
     ]
    }
   ],
   "source": [
    "n = int(0.8*len(data))\n",
    "train_data = data[:n]\n",
    "val_data=data[n:]\n",
    "\n",
    "def get_batch(split):\n",
    "    data = train_data if split == 'train' else val_data\n",
    "    ix = torch.randint(len(data) - block_size, (batch_size,))\n",
    "   # print(ix)\n",
    "    x = torch.stack([data[i:i+block_size] for i in ix])\n",
    "    y = torch.stack([data[i+1:i+block_size+1] for i in ix])\n",
    "    x, y = x.to(device), y.to(device)\n",
    "    return x, y\n",
    "\n",
    "x, y = get_batch('train')\n",
    "\n",
    "print('inputs:')\n",
    "print(x)\n",
    "\n",
    "print('targets: ')\n",
    "print(y)\n"
   ]
  },
  {
   "cell_type": "code",
   "execution_count": 33,
   "id": "18899c91-5217-4c83-b841-aca06edf5b89",
   "metadata": {},
   "outputs": [
    {
     "name": "stdout",
     "output_type": "stream",
     "text": [
      "when input is tensor([80]) target is tensor(1)\n",
      "when input is tensor([80,  1]) target is tensor(1)\n",
      "when input is tensor([80,  1,  1]) target is tensor(28)\n",
      "when input is tensor([80,  1,  1, 28]) target is tensor(39)\n",
      "when input is tensor([80,  1,  1, 28, 39]) target is tensor(42)\n",
      "when input is tensor([80,  1,  1, 28, 39, 42]) target is tensor(39)\n",
      "when input is tensor([80,  1,  1, 28, 39, 42, 39]) target is tensor(44)\n",
      "when input is tensor([80,  1,  1, 28, 39, 42, 39, 44]) target is tensor(32)\n"
     ]
    }
   ],
   "source": [
    "block_size = 8 \n",
    "\n",
    "x = train_data[:block_size]\n",
    "y = train_data[1:block_size+1]\n",
    "\n",
    "for t in range(block_size):\n",
    "    context = x[:t+1]\n",
    "    target = y[t]\n",
    "    print('when input is', context, 'target is', target)\n",
    "    "
   ]
  },
  {
   "cell_type": "code",
   "execution_count": 39,
   "id": "cd5d49a2-671d-42e1-94d3-bccd93538ba9",
   "metadata": {},
   "outputs": [],
   "source": [
    "@torch.no_grad()\n",
    "def estimate_loss():\n",
    "    out = {}\n",
    "    model.eval()\n",
    "    for split in ['train', 'val']:\n",
    "        losses = torch.zeros(eval_iters)\n",
    "        for k in range(eval_iters):\n",
    "            X, Y = get_batch(split)\n",
    "            logits, loss = model(X, Y)\n",
    "            losses[k] = loss.item()\n",
    "            out[split] = losses.mean()\n",
    "    model.train()\n",
    "    return out"
   ]
  },
  {
   "cell_type": "code",
   "execution_count": 34,
   "id": "e65e0790-cd3a-4495-bf50-577a943f0474",
   "metadata": {},
   "outputs": [
    {
     "name": "stdout",
     "output_type": "stream",
     "text": [
      "\n",
      "N)bI_ujz)GQDeGB:N2E48v3iWfN&-MZkezS_u8rzz\n",
      "DhbPKrpz)9A;gG39&﻿dpCu3lCZwIVk544teMteRc_QS0d['U.2e!;q9teW:*VA4,2wk(8CKn_4HZjL?aGDc:7 kNoPFQ)kMmi\n",
      "(I3v\n",
      ",Y-bBMAR3lQPx7bQ,lSemgDgTzSM8t-c2?JOwx.k48f0yzl&dcegue7 qTaSi4qBpPO7,xISn'S3Zy0a'Q PN&8IH.C-1q2f0r!E0ezfgH6?([V-DGyiNh1UACu*5]e\"4N&ZaK8XX﻿Co-*HxCI(5Bo;\"FPU9oIvdndXBg\n",
      "Ci?XbO_epid,Q*Z,ZOin'wJ﻿6yZt6i?\"0KGuC7!eSOxVZhku﻿.ZNkrM]'ZSz:n'Ti6Gtedn﻿mh)PRm&8XQ.N﻿6yzhbwf7i9GC﻿uv'jR9\"zIUGp2k:9a)7C:NZvZ*3yYcfBo4mstJx\n",
      ":pvPp;o-G]n',cPS?443l4ydDj?frrCZYh]Ie7v&﻿*VJmE;)9lW\n"
     ]
    }
   ],
   "source": [
    "class BigramLanguageModel(nn.Module):\n",
    "    def __init__(self, vocab_size):\n",
    "        super().__init__()\n",
    "        self.token_embeding_table = nn.Embedding(vocab_size, vocab_size)\n",
    "\n",
    "    def forward(self, index, targets=None):\n",
    "        ''' This is for the behind the scenes shit helping us understand what is going on under the hood --> also a lot easier to debug\n",
    "        What are the logits:\n",
    "        a bunch of normaized floating point numbers\n",
    "        we sum the numbers and then div each number in the set buy the total (normalization) -> this gives us a prob dist of what we want to predict\n",
    "        '''        \n",
    "        logits = self.token_embeding_table(index)\n",
    "\n",
    "        if targets is None:\n",
    "            loss = None\n",
    "        else:\n",
    "            B, T, C = logits.shape # Batch, Time, Channels\n",
    "    # What does view do: al;lwos us to unpack with.shapoe and then pack back totgether\n",
    "            logits = logits.view(B*T, C) #The batch and time arnt suepr important so we can blend them together\n",
    "            targets = targets.view(B*T)\n",
    "            loss = F.cross_entropy(logits, targets) # we use veiw to ensure that the shape that this funct expects is met -> it exprect b by c bt t \n",
    "            \n",
    "\n",
    "        return logits, loss\n",
    "\n",
    "    def generate(self, index, max_new_tokens):\n",
    "\n",
    "        for _ in range(max_new_tokens):\n",
    "            # get predictions\n",
    "            logits, loss = self.forward(index)\n",
    "            # focus only on the last time step\n",
    "            logits = logits[:, -1, :] # becomes b, c\n",
    "            # apply softmax tro get probs\n",
    "            probs = F.softmax(logits, dim=-1) # b,c\n",
    "            #sample from the distribution\n",
    "            index_next = torch.multinomial(probs, num_samples=1) # b, 1\n",
    "            # append the sampled index to the running sequence\n",
    "            index = torch.cat((index, index_next), dim=1) # B, T+1\n",
    "        return index\n",
    "\n",
    "model = BigramLanguageModel(vocab_size)\n",
    "m = model.to(device)\n",
    "\n",
    "context = torch.zeros((1,1), dtype=torch.long, device=device)\n",
    "generated_chars = decode(m.generate(context, max_new_tokens=500)[0].tolist())\n",
    "print(generated_chars)\n"
   ]
  },
  {
   "cell_type": "code",
   "execution_count": 46,
   "id": "a0eacf67-a1f7-4bf0-b82e-177f6cd082f7",
   "metadata": {},
   "outputs": [
    {
     "name": "stdout",
     "output_type": "stream",
     "text": [
      " step 0, train Loss: 2.5062, val loss: 2.5157\n",
      " step 250, train Loss: 2.4789, val loss: 2.5030\n",
      " step 500, train Loss: 2.4769, val loss: 2.5163\n",
      " step 750, train Loss: 2.4794, val loss: 2.4933\n",
      " step 1000, train Loss: 2.4462, val loss: 2.4931\n",
      " step 1250, train Loss: 2.4784, val loss: 2.5015\n",
      " step 1500, train Loss: 2.4684, val loss: 2.4969\n",
      " step 1750, train Loss: 2.4840, val loss: 2.5131\n",
      " step 2000, train Loss: 2.4732, val loss: 2.4931\n",
      " step 2250, train Loss: 2.4685, val loss: 2.5298\n",
      " step 2500, train Loss: 2.4689, val loss: 2.5162\n",
      " step 2750, train Loss: 2.4674, val loss: 2.5092\n",
      " step 3000, train Loss: 2.4847, val loss: 2.4950\n",
      " step 3250, train Loss: 2.4366, val loss: 2.5052\n",
      " step 3500, train Loss: 2.4725, val loss: 2.5111\n",
      " step 3750, train Loss: 2.4614, val loss: 2.5243\n",
      " step 4000, train Loss: 2.4488, val loss: 2.5435\n",
      " step 4250, train Loss: 2.4435, val loss: 2.4918\n",
      " step 4500, train Loss: 2.4432, val loss: 2.5214\n",
      " step 4750, train Loss: 2.4571, val loss: 2.4840\n",
      " step 5000, train Loss: 2.4704, val loss: 2.4851\n",
      " step 5250, train Loss: 2.4739, val loss: 2.5003\n",
      " step 5500, train Loss: 2.4674, val loss: 2.4857\n",
      " step 5750, train Loss: 2.4631, val loss: 2.4933\n",
      " step 6000, train Loss: 2.4392, val loss: 2.5149\n",
      " step 6250, train Loss: 2.4615, val loss: 2.4920\n",
      " step 6500, train Loss: 2.4614, val loss: 2.4947\n",
      " step 6750, train Loss: 2.4392, val loss: 2.5365\n",
      " step 7000, train Loss: 2.4463, val loss: 2.5026\n",
      " step 7250, train Loss: 2.4456, val loss: 2.5090\n",
      " step 7500, train Loss: 2.4689, val loss: 2.4947\n",
      " step 7750, train Loss: 2.4760, val loss: 2.5114\n",
      " step 8000, train Loss: 2.4357, val loss: 2.4879\n",
      " step 8250, train Loss: 2.4589, val loss: 2.4885\n",
      " step 8500, train Loss: 2.4559, val loss: 2.4767\n",
      " step 8750, train Loss: 2.4713, val loss: 2.5162\n",
      " step 9000, train Loss: 2.4498, val loss: 2.4759\n",
      " step 9250, train Loss: 2.4546, val loss: 2.4794\n",
      " step 9500, train Loss: 2.4597, val loss: 2.4935\n",
      " step 9750, train Loss: 2.4371, val loss: 2.5054\n",
      "2.459397554397583\n"
     ]
    }
   ],
   "source": [
    "# create a pytorch optimiser\n",
    "\n",
    "optimiser = torch.optim.AdamW(model.parameters(), lr=learning_rate)\n",
    "\n",
    "for iter in range(max_iters):\n",
    "    if iter % eval_iters == 0:\n",
    "        losses = estimate_loss()\n",
    "        print(f\" step {iter}, train Loss: {losses['train']:.4f}, val loss: {losses['val']:.4f}\")\n",
    "\n",
    "    # sample a batch of data\n",
    "    xb, yb = get_batch('train')\n",
    "\n",
    "    # evaluate the loss\n",
    "    logits, loss = model.forward(xb, yb)\n",
    "    optimiser.zero_grad(set_to_none=True)\n",
    "\n",
    "    loss.backward()\n",
    "    optimiser.step()\n",
    "\n",
    "print(loss.item())"
   ]
  },
  {
   "cell_type": "code",
   "execution_count": 45,
   "id": "a87e62e8-4a6c-4add-9238-82613f9283ea",
   "metadata": {},
   "outputs": [
    {
     "name": "stdout",
     "output_type": "stream",
     "text": [
      "\n",
      "s, ss the oth thes ad.\n",
      "\n",
      "omocopuble te t wat he ftowize he sor pilie fal\n",
      "\n",
      "\n",
      "\"thald aded oug ws che, we char tllprousider tttisweel.\n",
      "B)Cs?\"YFaghe rey,\"N'lye thesthe t, one, ale thee fo q2;je an\n",
      "\"Huben g d pomancang an theait fonveve t  y th't\n",
      "\n",
      "\"w;8_ist\n",
      "mecef icecht warfre fulonge san d oueimed y\n",
      "Arag d mug, al, f my gr!PZH]f me\n",
      "\n",
      "and t guthenepipurza Ohe thea en aifoood m dser f d wo wh animabesein w an-rot the way torand rd tlismb,\" waly, lly eningh west-;AI've ntherrct ndiren w\n",
      "Cr we tledar ifre c\n"
     ]
    }
   ],
   "source": [
    "context = torch.zeros((1,1), dtype=torch.long, device=device)\n",
    "generated_chars = decode(m.generate(context, max_new_tokens=500)[0].tolist())\n",
    "print(generated_chars)"
   ]
  },
  {
   "cell_type": "code",
   "execution_count": null,
   "id": "b25e6d1f-1b42-4e4a-8ea4-29f4aa057465",
   "metadata": {},
   "outputs": [],
   "source": [
    "   "
   ]
  }
 ],
 "metadata": {
  "kernelspec": {
   "display_name": "cuda-llm",
   "language": "python",
   "name": "cuda"
  },
  "language_info": {
   "codemirror_mode": {
    "name": "ipython",
    "version": 3
   },
   "file_extension": ".py",
   "mimetype": "text/x-python",
   "name": "python",
   "nbconvert_exporter": "python",
   "pygments_lexer": "ipython3",
   "version": "3.8.10"
  }
 },
 "nbformat": 4,
 "nbformat_minor": 5
}
